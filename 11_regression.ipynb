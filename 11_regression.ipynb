{
 "cells": [
  {
   "cell_type": "markdown",
   "metadata": {
    "slideshow": {
     "slide_type": "slide"
    }
   },
   "source": [
    "## Course Announcements\n",
    "\n",
    "- nothing due this week (yay!)\n",
    "- A3 due next Sunday (11:59 PM)\n",
    "- A1 grades posted on TritonEd\n",
    "- Guest Lectures:\n",
    "    - Friday 5/24 (wk 8) : Dr. Gina Merchant\n",
    "    - Friday 5/31 (wk 9) : Dr. Brad Voytek\n"
   ]
  },
  {
   "cell_type": "markdown",
   "metadata": {
    "slideshow": {
     "slide_type": "slide"
    }
   },
   "source": [
    "# Inference: Linear Regression\n",
    "\n",
    "- **simple linear regression**\n",
    "    - effect size\n",
    "    - p-value\n",
    "    - interpretation\n",
    "- **multiple linear regression**\n",
    "    - confounding\n",
    "- working with **transformed data**"
   ]
  },
  {
   "cell_type": "code",
   "execution_count": 28,
   "metadata": {
    "slideshow": {
     "slide_type": "skip"
    }
   },
   "outputs": [],
   "source": [
    "import pandas as pd\n",
    "import matplotlib.pyplot as plt\n",
    "plt.rcParams['figure.figsize'] = (17, 7)\n",
    "plt.rcParams.update({'font.size': 18})\n",
    "\n",
    "import numpy as np\n",
    "\n",
    "# Statmodels & patsy\n",
    "import patsy\n",
    "import statsmodels.api as sm"
   ]
  },
  {
   "cell_type": "markdown",
   "metadata": {
    "slideshow": {
     "slide_type": "slide"
    }
   },
   "source": [
    "## The Question\n",
    "\n",
    "Does Poverty Percentage affect Teen Birth Rate?"
   ]
  },
  {
   "cell_type": "markdown",
   "metadata": {
    "slideshow": {
     "slide_type": "fragment"
    }
   },
   "source": [
    "$H_o$: There is no relationship between poverty percentage and teen birth rate ($\\beta = 0$)\n",
    "\n",
    "$H_a$: There is a relationship between poverty percentage and teen birth rate ($\\beta \\ne 0$)"
   ]
  },
  {
   "cell_type": "markdown",
   "metadata": {
    "slideshow": {
     "slide_type": "slide"
    }
   },
   "source": [
    "## The Data"
   ]
  },
  {
   "cell_type": "code",
   "execution_count": 3,
   "metadata": {
    "scrolled": true,
    "slideshow": {
     "slide_type": "fragment"
    }
   },
   "outputs": [
    {
     "data": {
      "text/html": [
       "<div>\n",
       "<style scoped>\n",
       "    .dataframe tbody tr th:only-of-type {\n",
       "        vertical-align: middle;\n",
       "    }\n",
       "\n",
       "    .dataframe tbody tr th {\n",
       "        vertical-align: top;\n",
       "    }\n",
       "\n",
       "    .dataframe thead th {\n",
       "        text-align: right;\n",
       "    }\n",
       "</style>\n",
       "<table border=\"1\" class=\"dataframe\">\n",
       "  <thead>\n",
       "    <tr style=\"text-align: right;\">\n",
       "      <th></th>\n",
       "      <th>Location</th>\n",
       "      <th>PovPct</th>\n",
       "      <th>Brth15to17</th>\n",
       "      <th>Brth18to19</th>\n",
       "      <th>ViolCrime</th>\n",
       "      <th>TeenBrth</th>\n",
       "    </tr>\n",
       "  </thead>\n",
       "  <tbody>\n",
       "    <tr>\n",
       "      <th>0</th>\n",
       "      <td>Alabama</td>\n",
       "      <td>20.1</td>\n",
       "      <td>31.5</td>\n",
       "      <td>88.7</td>\n",
       "      <td>11.2</td>\n",
       "      <td>54.5</td>\n",
       "    </tr>\n",
       "    <tr>\n",
       "      <th>1</th>\n",
       "      <td>Alaska</td>\n",
       "      <td>7.1</td>\n",
       "      <td>18.9</td>\n",
       "      <td>73.7</td>\n",
       "      <td>9.1</td>\n",
       "      <td>39.5</td>\n",
       "    </tr>\n",
       "    <tr>\n",
       "      <th>2</th>\n",
       "      <td>Arizona</td>\n",
       "      <td>16.1</td>\n",
       "      <td>35.0</td>\n",
       "      <td>102.5</td>\n",
       "      <td>10.4</td>\n",
       "      <td>61.2</td>\n",
       "    </tr>\n",
       "    <tr>\n",
       "      <th>3</th>\n",
       "      <td>Arkansas</td>\n",
       "      <td>14.9</td>\n",
       "      <td>31.6</td>\n",
       "      <td>101.7</td>\n",
       "      <td>10.4</td>\n",
       "      <td>59.9</td>\n",
       "    </tr>\n",
       "    <tr>\n",
       "      <th>4</th>\n",
       "      <td>California</td>\n",
       "      <td>16.7</td>\n",
       "      <td>22.6</td>\n",
       "      <td>69.1</td>\n",
       "      <td>11.2</td>\n",
       "      <td>41.1</td>\n",
       "    </tr>\n",
       "  </tbody>\n",
       "</table>\n",
       "</div>"
      ],
      "text/plain": [
       "     Location  PovPct  Brth15to17  Brth18to19  ViolCrime  TeenBrth\n",
       "0     Alabama    20.1        31.5        88.7       11.2      54.5\n",
       "1      Alaska     7.1        18.9        73.7        9.1      39.5\n",
       "2     Arizona    16.1        35.0       102.5       10.4      61.2\n",
       "3    Arkansas    14.9        31.6       101.7       10.4      59.9\n",
       "4  California    16.7        22.6        69.1       11.2      41.1"
      ]
     },
     "execution_count": 3,
     "metadata": {},
     "output_type": "execute_result"
    }
   ],
   "source": [
    "# read in file; specify that it is tab-separated file\n",
    "df = pd.read_csv('https://raw.githubusercontent.com/shanellis/datasets/master/index.txt', sep='\\t')\n",
    "df.head()"
   ]
  },
  {
   "cell_type": "markdown",
   "metadata": {
    "slideshow": {
     "slide_type": "slide"
    }
   },
   "source": [
    "## Exploratory Plot"
   ]
  },
  {
   "cell_type": "code",
   "execution_count": 33,
   "metadata": {
    "scrolled": true,
    "slideshow": {
     "slide_type": "fragment"
    }
   },
   "outputs": [
    {
     "data": {
      "image/png": "[encoded data removed]",
      "text/plain": [
       "<Figure size 1224x504 with 1 Axes>"
      ]
     },
     "metadata": {
      "needs_background": "light"
     },
     "output_type": "display_data"
    }
   ],
   "source": [
    "plt.scatter(df['PovPct'], df['TeenBrth'], s=100)\n",
    "plt.xlabel('Poverty Percentage')\n",
    "plt.ylabel('Teen Birth Rate');"
   ]
  },
  {
   "cell_type": "markdown",
   "metadata": {
    "slideshow": {
     "slide_type": "fragment"
    }
   },
   "source": [
    "We see there is some sort of relationship here, but we want to *measure that realtionship*. Linear regreasssion allows us to do that."
   ]
  },
  {
   "cell_type": "markdown",
   "metadata": {
    "slideshow": {
     "slide_type": "slide"
    }
   },
   "source": [
    "## Assumptions of Linear Regression\n",
    "\n",
    "1. Linear relationship\n",
    "2. Multivariate normality\n",
    "3. No multicollinearity\n",
    "4. No auto-correlation\n",
    "5. Homoscedasticity\n"
   ]
  },
  {
   "cell_type": "markdown",
   "metadata": {
    "slideshow": {
     "slide_type": "slide"
    }
   },
   "source": [
    "## Linear Regression"
   ]
  },
  {
   "cell_type": "markdown",
   "metadata": {
    "slideshow": {
     "slide_type": "fragment"
    }
   },
   "source": [
    "$$outcome = \\beta_0 + \\beta_1*predictor$$"
   ]
  },
  {
   "cell_type": "markdown",
   "metadata": {
    "slideshow": {
     "slide_type": "fragment"
    }
   },
   "source": [
    "First, let's be sure we're on the same page about what our outcome is. Here, we're intererested in whether **Poverty Percentage (predictor)** impacts **Teen Birth Rate (outcome)**."
   ]
  },
  {
   "cell_type": "markdown",
   "metadata": {
    "slideshow": {
     "slide_type": "fragment"
    }
   },
   "source": [
    "We can specify our design matrix using `patsy`."
   ]
  },
  {
   "cell_type": "code",
   "execution_count": 5,
   "metadata": {
    "slideshow": {
     "slide_type": "fragment"
    }
   },
   "outputs": [],
   "source": [
    "outcome, predictors = patsy.dmatrices('TeenBrth ~ PovPct', df)"
   ]
  },
  {
   "cell_type": "markdown",
   "metadata": {
    "slideshow": {
     "slide_type": "fragment"
    }
   },
   "source": [
    "Now, that those are specified, let's run the model, using `statsmodels`."
   ]
  },
  {
   "cell_type": "code",
   "execution_count": 6,
   "metadata": {
    "slideshow": {
     "slide_type": "fragment"
    }
   },
   "outputs": [],
   "source": [
    "mod = sm.OLS(outcome, predictors)"
   ]
  },
  {
   "cell_type": "markdown",
   "metadata": {
    "slideshow": {
     "slide_type": "fragment"
    }
   },
   "source": [
    "And, then we just have to fit the model and look at the results."
   ]
  },
  {
   "cell_type": "code",
   "execution_count": 7,
   "metadata": {
    "slideshow": {
     "slide_type": "slide"
    }
   },
   "outputs": [
    {
     "name": "stdout",
     "output_type": "stream",
     "text": [
      "                            OLS Regression Results                            \n",
      "==============================================================================\n",
      "Dep. Variable:               TeenBrth   R-squared:                       0.495\n",
      "Model:                            OLS   Adj. R-squared:                  0.484\n",
      "Method:                 Least Squares   F-statistic:                     47.95\n",
      "Date:                Mon, 29 Apr 2019   Prob (F-statistic):           8.67e-09\n",
      "Time:                        11:09:34   Log-Likelihood:                -182.53\n",
      "No. Observations:                  51   AIC:                             369.1\n",
      "Df Residuals:                      49   BIC:                             372.9\n",
      "Df Model:                           1                                         \n",
      "Covariance Type:            nonrobust                                         \n",
      "==============================================================================\n",
      "                 coef    std err          t      P>|t|      [0.025      0.975]\n",
      "------------------------------------------------------------------------------\n",
      "Intercept     15.6737      4.032      3.888      0.000       7.571      23.776\n",
      "PovPct         2.0255      0.292      6.925      0.000       1.438       2.613\n",
      "==============================================================================\n",
      "Omnibus:                        2.300   Durbin-Watson:                   2.221\n",
      "Prob(Omnibus):                  0.317   Jarque-Bera (JB):                1.377\n",
      "Skew:                           0.046   Prob(JB):                        0.502\n",
      "Kurtosis:                       2.200   Cond. No.                         45.1\n",
      "==============================================================================\n",
      "\n",
      "Warnings:\n",
      "[1] Standard Errors assume that the covariance matrix of the errors is correctly specified.\n"
     ]
    }
   ],
   "source": [
    "## fit the model\n",
    "res = mod.fit()\n",
    "\n",
    "## look at the results\n",
    "print(res.summary())"
   ]
  },
  {
   "cell_type": "markdown",
   "metadata": {
    "slideshow": {
     "slide_type": "fragment"
    }
   },
   "source": [
    "## Clicker Question\n",
    "\n",
    "What is the effect size of the relationship between Poverty Percentage and Teen Birth Rate?\n",
    "\n",
    "- A) 15.67\n",
    "- B) 2.03\n",
    "- C) 4.032\n",
    "- D) 0.495"
   ]
  },
  {
   "cell_type": "markdown",
   "metadata": {
    "slideshow": {
     "slide_type": "fragment"
    }
   },
   "source": [
    "There is a lot of information in there. Let's focus on the three pieces we discussed last lecture:\n",
    "\n",
    "- `coef` : $\\beta$ estimate explaining the effect size\n",
    "- `std err` : standard error \n",
    "- `P>|t|` : the p-value"
   ]
  },
  {
   "cell_type": "markdown",
   "metadata": {
    "slideshow": {
     "slide_type": "slide"
    }
   },
   "source": [
    "## Interpretation"
   ]
  },
  {
   "cell_type": "markdown",
   "metadata": {
    "slideshow": {
     "slide_type": "fragment"
    }
   },
   "source": [
    "$$outcome = \\beta_0 + \\beta_1*predictor$$"
   ]
  },
  {
   "cell_type": "markdown",
   "metadata": {
    "slideshow": {
     "slide_type": "fragment"
    }
   },
   "source": [
    "$$ Teen Birth = 15.67 + 2.03  * Poverty Percentage $$"
   ]
  },
  {
   "cell_type": "markdown",
   "metadata": {
    "slideshow": {
     "slide_type": "fragment"
    }
   },
   "source": [
    "If the Poverty Percentage were 0, the Teen Birth Rate would be **15.67** (The Intercept, $\\beta_0$)"
   ]
  },
  {
   "cell_type": "markdown",
   "metadata": {
    "slideshow": {
     "slide_type": "fragment"
    }
   },
   "source": [
    "For every 1 unit increase in Poverty Percentage, you expect to see a **2.03** unit increase in Teen Birth Rate (The effect size, $\\beta_1$)"
   ]
  },
  {
   "cell_type": "code",
   "execution_count": 8,
   "metadata": {
    "slideshow": {
     "slide_type": "slide"
    }
   },
   "outputs": [
    {
     "name": "stdout",
     "output_type": "stream",
     "text": [
      "                            OLS Regression Results                            \n",
      "==============================================================================\n",
      "Dep. Variable:               TeenBrth   R-squared:                       0.495\n",
      "Model:                            OLS   Adj. R-squared:                  0.484\n",
      "Method:                 Least Squares   F-statistic:                     47.95\n",
      "Date:                Mon, 29 Apr 2019   Prob (F-statistic):           8.67e-09\n",
      "Time:                        11:09:34   Log-Likelihood:                -182.53\n",
      "No. Observations:                  51   AIC:                             369.1\n",
      "Df Residuals:                      49   BIC:                             372.9\n",
      "Df Model:                           1                                         \n",
      "Covariance Type:            nonrobust                                         \n",
      "==============================================================================\n",
      "                 coef    std err          t      P>|t|      [0.025      0.975]\n",
      "------------------------------------------------------------------------------\n",
      "Intercept     15.6737      4.032      3.888      0.000       7.571      23.776\n",
      "PovPct         2.0255      0.292      6.925      0.000       1.438       2.613\n",
      "==============================================================================\n",
      "Omnibus:                        2.300   Durbin-Watson:                   2.221\n",
      "Prob(Omnibus):                  0.317   Jarque-Bera (JB):                1.377\n",
      "Skew:                           0.046   Prob(JB):                        0.502\n",
      "Kurtosis:                       2.200   Cond. No.                         45.1\n",
      "==============================================================================\n",
      "\n",
      "Warnings:\n",
      "[1] Standard Errors assume that the covariance matrix of the errors is correctly specified.\n"
     ]
    }
   ],
   "source": [
    "## look at the results\n",
    "print(res.summary())"
   ]
  },
  {
   "cell_type": "markdown",
   "metadata": {
    "slideshow": {
     "slide_type": "fragment"
    }
   },
   "source": [
    "## Clicker Question\n",
    "\n",
    "Which value represents the expected Teen Birth Rate if the Poverty Percentage were 0?\n",
    "\n",
    "- A) 15.67\n",
    "- B) 2.03\n",
    "- C) 4.032\n",
    "- D) 0.495"
   ]
  },
  {
   "cell_type": "code",
   "execution_count": 34,
   "metadata": {
    "slideshow": {
     "slide_type": "fragment"
    }
   },
   "outputs": [
    {
     "data": {
      "image/png": "[encoded data removed]",
      "text/plain": [
       "<Figure size 1224x504 with 1 Axes>"
      ]
     },
     "metadata": {
      "needs_background": "light"
     },
     "output_type": "display_data"
    }
   ],
   "source": [
    "## Plot the model fit line\n",
    "\n",
    "# Plot the orginal data (as before)\n",
    "plt.scatter(df['PovPct'], df['TeenBrth'], alpha=0.3, label='Data', s=100);\n",
    "\n",
    "# Generate and plot the model fit line\n",
    "xs = np.arange(df['PovPct'].min(), df['PovPct'].max())\n",
    "ys = 2.0255 * xs + 15.67\n",
    "plt.plot(xs, ys, '--k', linewidth=4, label='Model')\n",
    "\n",
    "plt.xlabel('Poverty Percentage')\n",
    "plt.ylabel('Teen Birth Rate')\n",
    "plt.legend();"
   ]
  },
  {
   "cell_type": "markdown",
   "metadata": {
    "slideshow": {
     "slide_type": "fragment"
    }
   },
   "source": [
    "This is what we saw on Monday. The model (the line) mathematically describes the relationship between the data points, but it doesn't explain the relationship *perfectly*. (All models are wrong!)"
   ]
  },
  {
   "cell_type": "markdown",
   "metadata": {
    "slideshow": {
     "slide_type": "notes"
    }
   },
   "source": [
    "Note that this line is drawn in the following way:\n",
    "- if you were to draw a perpendicular line from each point to the line and calculate that distance\n",
    "- if you were to sum the distance across all points\n",
    "- this line is the one that minimizes that sum"
   ]
  },
  {
   "cell_type": "markdown",
   "metadata": {
    "slideshow": {
     "slide_type": "fragment"
    }
   },
   "source": [
    "## Clicker Question\n",
    "\n",
    "If I told you the Poverty Percentage of a state was 15, what would you estimate would be its Teen Birth Rate? \n",
    "- A) ~ 0\n",
    "- B) ~ 30\n",
    "- C) ~ 40\n",
    "- D) ~ 50\n",
    "- E) ~ 60"
   ]
  },
  {
   "cell_type": "code",
   "execution_count": 10,
   "metadata": {
    "slideshow": {
     "slide_type": "slide"
    }
   },
   "outputs": [
    {
     "name": "stdout",
     "output_type": "stream",
     "text": [
      "                            OLS Regression Results                            \n",
      "==============================================================================\n",
      "Dep. Variable:               TeenBrth   R-squared:                       0.495\n",
      "Model:                            OLS   Adj. R-squared:                  0.484\n",
      "Method:                 Least Squares   F-statistic:                     47.95\n",
      "Date:                Mon, 29 Apr 2019   Prob (F-statistic):           8.67e-09\n",
      "Time:                        11:09:34   Log-Likelihood:                -182.53\n",
      "No. Observations:                  51   AIC:                             369.1\n",
      "Df Residuals:                      49   BIC:                             372.9\n",
      "Df Model:                           1                                         \n",
      "Covariance Type:            nonrobust                                         \n",
      "==============================================================================\n",
      "                 coef    std err          t      P>|t|      [0.025      0.975]\n",
      "------------------------------------------------------------------------------\n",
      "Intercept     15.6737      4.032      3.888      0.000       7.571      23.776\n",
      "PovPct         2.0255      0.292      6.925      0.000       1.438       2.613\n",
      "==============================================================================\n",
      "Omnibus:                        2.300   Durbin-Watson:                   2.221\n",
      "Prob(Omnibus):                  0.317   Jarque-Bera (JB):                1.377\n",
      "Skew:                           0.046   Prob(JB):                        0.502\n",
      "Kurtosis:                       2.200   Cond. No.                         45.1\n",
      "==============================================================================\n",
      "\n",
      "Warnings:\n",
      "[1] Standard Errors assume that the covariance matrix of the errors is correctly specified.\n"
     ]
    }
   ],
   "source": [
    "## look at the results\n",
    "print(res.summary())"
   ]
  },
  {
   "cell_type": "markdown",
   "metadata": {
    "slideshow": {
     "slide_type": "fragment"
    }
   },
   "source": [
    "$$ Teen Birth = 15.67 + 2.03  * Poverty Percentage $$"
   ]
  },
  {
   "cell_type": "markdown",
   "metadata": {
    "slideshow": {
     "slide_type": "fragment"
    }
   },
   "source": [
    "## Clicker Question\n",
    "\n",
    "Which of the following is a reasonable estimate (guess) for a state with a Poverty Percentage of 20?\n",
    "\n",
    "- A) 55.99\n",
    "- B) 56.27\n",
    "- C) 56.5\n",
    "- D) A - C\n",
    "- E) None of the above"
   ]
  },
  {
   "cell_type": "markdown",
   "metadata": {
    "slideshow": {
     "slide_type": "slide"
    }
   },
   "source": [
    "## Predictions\n",
    "\n",
    "If I told you a locations' Poverty Percentage, what would you guess its Teen Birth Rate would be?"
   ]
  },
  {
   "cell_type": "markdown",
   "metadata": {
    "slideshow": {
     "slide_type": "fragment"
    }
   },
   "source": [
    "$$ Teen Birth = 15.67 + 2.03  * Poverty Percentage $$"
   ]
  },
  {
   "cell_type": "code",
   "execution_count": 11,
   "metadata": {
    "slideshow": {
     "slide_type": "fragment"
    }
   },
   "outputs": [
    {
     "data": {
      "text/plain": [
       "52.21"
      ]
     },
     "execution_count": 11,
     "metadata": {},
     "output_type": "execute_result"
    }
   ],
   "source": [
    "## if Poverty Percentage were 18\n",
    "birth_rate = 15.67 + 2.03 * 18\n",
    "birth_rate"
   ]
  },
  {
   "cell_type": "code",
   "execution_count": 12,
   "metadata": {
    "slideshow": {
     "slide_type": "fragment"
    }
   },
   "outputs": [
    {
     "data": {
      "text/plain": [
       "40.03"
      ]
     },
     "execution_count": 12,
     "metadata": {},
     "output_type": "execute_result"
    }
   ],
   "source": [
    "## if Poverty Percentage were 12\n",
    "birth_rate = 15.67 + 2.03 * 12\n",
    "birth_rate"
   ]
  },
  {
   "cell_type": "markdown",
   "metadata": {
    "slideshow": {
     "slide_type": "slide"
    }
   },
   "source": [
    "## Clicker Question\n",
    "\n",
    "What is our conclusion from this analysis? (Question: Does Poverty Percentage affect Teen Birth Rate?)\n",
    "\n",
    "- A) Reject the null; There is no relationship between Poverty Percentage and Teen Birth Rate\n",
    "- B) Reject the null; There is a relationship between Poverty Percentage and Teen Birth Rate\n",
    "- C) Fail to reject the null; There is no relationship between Poverty Percentage and Teen Birth Rate\n",
    "- D) Fail to reject the null; There is a relationship between Poverty Percentage and Teen Birth Rate\n"
   ]
  },
  {
   "cell_type": "markdown",
   "metadata": {
    "slideshow": {
     "slide_type": "slide"
    }
   },
   "source": [
    "# Multiple Linear Regression\n",
    "\n",
    "So far, we've only been looking at the relationship of one measure (Poverty Percentage) on Teen Birth. \n",
    "\n",
    "*But*, Poverty Percentage is likely *not* the only thing that affects Teen Birth Rate.\n",
    "\n",
    "We could imagine that Violent Crime rates in a location may affect both Poverty Percentage and could possibly affect Teen Birth Rate. (A confounder!)"
   ]
  },
  {
   "cell_type": "markdown",
   "metadata": {
    "slideshow": {
     "slide_type": "fragment"
    }
   },
   "source": [
    "This is where **multiple linear regression** is incredibly helpful. Multiple linear regression allows you to measure the effect of multiple predictors on an outcome."
   ]
  },
  {
   "cell_type": "code",
   "execution_count": 13,
   "metadata": {
    "slideshow": {
     "slide_type": "fragment"
    }
   },
   "outputs": [
    {
     "name": "stdout",
     "output_type": "stream",
     "text": [
      "                            OLS Regression Results                            \n",
      "==============================================================================\n",
      "Dep. Variable:               TeenBrth   R-squared:                       0.561\n",
      "Model:                            OLS   Adj. R-squared:                  0.543\n",
      "Method:                 Least Squares   F-statistic:                     30.68\n",
      "Date:                Mon, 29 Apr 2019   Prob (F-statistic):           2.61e-09\n",
      "Time:                        11:09:34   Log-Likelihood:                -178.93\n",
      "No. Observations:                  51   AIC:                             363.9\n",
      "Df Residuals:                      48   BIC:                             369.6\n",
      "Df Model:                           2                                         \n",
      "Covariance Type:            nonrobust                                         \n",
      "==============================================================================\n",
      "                 coef    std err          t      P>|t|      [0.025      0.975]\n",
      "------------------------------------------------------------------------------\n",
      "Intercept     17.6848      3.869      4.571      0.000       9.906      25.463\n",
      "PovPct         1.6304      0.312      5.227      0.000       1.003       2.258\n",
      "ViolCrime      0.4037      0.150      2.697      0.010       0.103       0.705\n",
      "==============================================================================\n",
      "Omnibus:                        1.413   Durbin-Watson:                   2.240\n",
      "Prob(Omnibus):                  0.493   Jarque-Bera (JB):                1.077\n",
      "Skew:                           0.071   Prob(JB):                        0.584\n",
      "Kurtosis:                       2.302   Cond. No.                         56.5\n",
      "==============================================================================\n",
      "\n",
      "Warnings:\n",
      "[1] Standard Errors assume that the covariance matrix of the errors is correctly specified.\n"
     ]
    }
   ],
   "source": [
    "outcome, predictors = patsy.dmatrices('TeenBrth ~ PovPct + ViolCrime ', df)\n",
    "mod = sm.OLS(outcome, predictors)\n",
    "res = mod.fit()\n",
    "print(res.summary())"
   ]
  },
  {
   "cell_type": "markdown",
   "metadata": {
    "slideshow": {
     "slide_type": "fragment"
    }
   },
   "source": [
    "## Clicker Question\n",
    "\n",
    "Which has a larger effect on Teen Birth Rate?\n",
    "\n",
    "- A) Poverty Percentage\n",
    "- B) Violent Crime\n",
    "- C) Effect is equal across all predictors\n",
    "- D) No predictors have an effect on outcome"
   ]
  },
  {
   "cell_type": "markdown",
   "metadata": {
    "slideshow": {
     "slide_type": "fragment"
    }
   },
   "source": [
    "$$ Teen Birth = 17.68 + (1.63  * Poverty Percentage) + (0.4 * Violent Crime) $$"
   ]
  },
  {
   "cell_type": "markdown",
   "metadata": {
    "slideshow": {
     "slide_type": "fragment"
    }
   },
   "source": [
    "If the Poverty Percntage *and* Violent Crime were both 0, the Teen Birth Rate would be **17.68** (The Intercept)"
   ]
  },
  {
   "cell_type": "markdown",
   "metadata": {
    "slideshow": {
     "slide_type": "fragment"
    }
   },
   "source": [
    "Holding Violent crime constant, for every 1 unit increase in Poverty Percentage, you expect to see a **1.63** unit increase in Teen Birth Rate (The effect size, $\\beta_1$)"
   ]
  },
  {
   "cell_type": "markdown",
   "metadata": {
    "slideshow": {
     "slide_type": "fragment"
    }
   },
   "source": [
    "Holding Poverty Percentage constant, for every 1 unit increase in Violent crime, you'd expect to see a **0.4** unit increase in Teen Birth Rate (The effect size, $\\beta_2$)"
   ]
  },
  {
   "cell_type": "markdown",
   "metadata": {
    "slideshow": {
     "slide_type": "fragment"
    }
   },
   "source": [
    "## No Multiple Colinearity\n",
    "\n",
    "If we have two predictors, we'll want to consider how similar the values are between predictors (typically, before your generate the model, but we'll do it after for sake of argument today)."
   ]
  },
  {
   "cell_type": "code",
   "execution_count": 35,
   "metadata": {
    "slideshow": {
     "slide_type": "fragment"
    }
   },
   "outputs": [
    {
     "data": {
      "image/png": "[encoded data removed]",
      "text/plain": [
       "<Figure size 1224x504 with 1 Axes>"
      ]
     },
     "metadata": {
      "needs_background": "light"
     },
     "output_type": "display_data"
    }
   ],
   "source": [
    "# relationship between predictors\n",
    "plt.scatter(df['PovPct'], df['ViolCrime'], s=100);\n",
    "plt.xlabel('Poverty Percentage')\n",
    "plt.ylabel('Violent Crime');"
   ]
  },
  {
   "cell_type": "code",
   "execution_count": 15,
   "metadata": {
    "slideshow": {
     "slide_type": "fragment"
    }
   },
   "outputs": [
    {
     "data": {
      "text/html": [
       "<div>\n",
       "<style scoped>\n",
       "    .dataframe tbody tr th:only-of-type {\n",
       "        vertical-align: middle;\n",
       "    }\n",
       "\n",
       "    .dataframe tbody tr th {\n",
       "        vertical-align: top;\n",
       "    }\n",
       "\n",
       "    .dataframe thead th {\n",
       "        text-align: right;\n",
       "    }\n",
       "</style>\n",
       "<table border=\"1\" class=\"dataframe\">\n",
       "  <thead>\n",
       "    <tr style=\"text-align: right;\">\n",
       "      <th></th>\n",
       "      <th>Location</th>\n",
       "      <th>PovPct</th>\n",
       "      <th>Brth15to17</th>\n",
       "      <th>Brth18to19</th>\n",
       "      <th>ViolCrime</th>\n",
       "      <th>TeenBrth</th>\n",
       "    </tr>\n",
       "  </thead>\n",
       "  <tbody>\n",
       "    <tr>\n",
       "      <th>8</th>\n",
       "      <td>District_of_Columbia</td>\n",
       "      <td>22.0</td>\n",
       "      <td>44.8</td>\n",
       "      <td>101.5</td>\n",
       "      <td>65.0</td>\n",
       "      <td>69.1</td>\n",
       "    </tr>\n",
       "  </tbody>\n",
       "</table>\n",
       "</div>"
      ],
      "text/plain": [
       "               Location  PovPct  Brth15to17  Brth18to19  ViolCrime  TeenBrth\n",
       "8  District_of_Columbia    22.0        44.8       101.5       65.0      69.1"
      ]
     },
     "execution_count": 15,
     "metadata": {},
     "output_type": "execute_result"
    }
   ],
   "source": [
    "df[df['ViolCrime']>50]"
   ]
  },
  {
   "cell_type": "markdown",
   "metadata": {
    "slideshow": {
     "slide_type": "slide"
    }
   },
   "source": [
    "### Outlier handling"
   ]
  },
  {
   "cell_type": "code",
   "execution_count": 16,
   "metadata": {
    "slideshow": {
     "slide_type": "fragment"
    }
   },
   "outputs": [],
   "source": [
    "# removing DC\n",
    "df = df[df['ViolCrime'] < 50]"
   ]
  },
  {
   "cell_type": "code",
   "execution_count": 36,
   "metadata": {
    "slideshow": {
     "slide_type": "fragment"
    }
   },
   "outputs": [
    {
     "data": {
      "image/png": "[encoded data removed]",
      "text/plain": [
       "<Figure size 1224x504 with 1 Axes>"
      ]
     },
     "metadata": {
      "needs_background": "light"
     },
     "output_type": "display_data"
    }
   ],
   "source": [
    "# relationship between predictors\n",
    "# after removing outlier\n",
    "plt.scatter(df['PovPct'], df['ViolCrime'], s=100);\n",
    "plt.xlabel('Poverty Percentage')\n",
    "plt.ylabel('Violent Crime');"
   ]
  },
  {
   "cell_type": "code",
   "execution_count": 18,
   "metadata": {
    "slideshow": {
     "slide_type": "fragment"
    }
   },
   "outputs": [
    {
     "name": "stdout",
     "output_type": "stream",
     "text": [
      "                            OLS Regression Results                            \n",
      "==============================================================================\n",
      "Dep. Variable:               TeenBrth   R-squared:                       0.637\n",
      "Model:                            OLS   Adj. R-squared:                  0.621\n",
      "Method:                 Least Squares   F-statistic:                     41.17\n",
      "Date:                Mon, 29 Apr 2019   Prob (F-statistic):           4.67e-11\n",
      "Time:                        11:09:34   Log-Likelihood:                -168.65\n",
      "No. Observations:                  50   AIC:                             343.3\n",
      "Df Residuals:                      47   BIC:                             349.0\n",
      "Df Model:                           2                                         \n",
      "Covariance Type:            nonrobust                                         \n",
      "==============================================================================\n",
      "                 coef    std err          t      P>|t|      [0.025      0.975]\n",
      "------------------------------------------------------------------------------\n",
      "Intercept     15.3419      3.431      4.471      0.000       8.439      22.245\n",
      "PovPct         1.1905      0.294      4.048      0.000       0.599       1.782\n",
      "ViolCrime      1.6327      0.335      4.871      0.000       0.958       2.307\n",
      "==============================================================================\n",
      "Omnibus:                        0.723   Durbin-Watson:                   2.118\n",
      "Prob(Omnibus):                  0.697   Jarque-Bera (JB):                0.649\n",
      "Skew:                          -0.265   Prob(JB):                        0.723\n",
      "Kurtosis:                       2.825   Cond. No.                         51.3\n",
      "==============================================================================\n",
      "\n",
      "Warnings:\n",
      "[1] Standard Errors assume that the covariance matrix of the errors is correctly specified.\n"
     ]
    }
   ],
   "source": [
    "# run model\n",
    "outcome, predictors = patsy.dmatrices('TeenBrth ~ PovPct + ViolCrime ', df)\n",
    "mod = sm.OLS(outcome, predictors)\n",
    "res = mod.fit()\n",
    "print(res.summary())"
   ]
  },
  {
   "cell_type": "markdown",
   "metadata": {
    "slideshow": {
     "slide_type": "fragment"
    }
   },
   "source": [
    "Holding Violent crime constant, for every 1 unit increase in Poverty Percentage, you expect to see a **1.63** unit increase in Teen Birth Rate (The effect size, $\\beta_1$)"
   ]
  },
  {
   "cell_type": "markdown",
   "metadata": {
    "slideshow": {
     "slide_type": "fragment"
    }
   },
   "source": [
    "Holding Poverty Percentage constant, for every 1 unit increase in Violent crime, you'd expect to see a **1.19** unit increase in Teen Birth Rate (The effect size, $\\beta_2$)"
   ]
  },
  {
   "cell_type": "markdown",
   "metadata": {
    "slideshow": {
     "slide_type": "fragment"
    }
   },
   "source": [
    "## Clicker Question\n",
    "\n",
    "Which has a larger effect on Teen Birth Rate?\n",
    "\n",
    "- A) Poverty Percentage\n",
    "- B) Violent Crime\n",
    "- C) Effect is equal across all predictors\n",
    "- D) No predictors have an effect on outcome"
   ]
  },
  {
   "cell_type": "markdown",
   "metadata": {
    "slideshow": {
     "slide_type": "fragment"
    }
   },
   "source": [
    "Removing the DC outlier led to a different estimate for the effect of violent crime in these data. The inclusion or removal of data in your analyses can affect the results, so it's always important to carefully consider what question you're asking and "
   ]
  },
  {
   "cell_type": "markdown",
   "metadata": {
    "slideshow": {
     "slide_type": "slide"
    }
   },
   "source": [
    "# Regression with transformed data\n",
    "\n",
    "So far, we've been working with data that were approximately Normal and didn't require transformation. But that won't always be the case..."
   ]
  },
  {
   "cell_type": "code",
   "execution_count": 19,
   "metadata": {
    "slideshow": {
     "slide_type": "fragment"
    }
   },
   "outputs": [
    {
     "data": {
      "text/html": [
       "<div>\n",
       "<style scoped>\n",
       "    .dataframe tbody tr th:only-of-type {\n",
       "        vertical-align: middle;\n",
       "    }\n",
       "\n",
       "    .dataframe tbody tr th {\n",
       "        vertical-align: top;\n",
       "    }\n",
       "\n",
       "    .dataframe thead th {\n",
       "        text-align: right;\n",
       "    }\n",
       "</style>\n",
       "<table border=\"1\" class=\"dataframe\">\n",
       "  <thead>\n",
       "    <tr style=\"text-align: right;\">\n",
       "      <th></th>\n",
       "      <th>name</th>\n",
       "      <th>genus</th>\n",
       "      <th>vore</th>\n",
       "      <th>order</th>\n",
       "      <th>conservation</th>\n",
       "      <th>sleep_total</th>\n",
       "      <th>sleep_rem</th>\n",
       "      <th>sleep_cycle</th>\n",
       "      <th>awake</th>\n",
       "      <th>brainwt</th>\n",
       "      <th>bodywt</th>\n",
       "    </tr>\n",
       "  </thead>\n",
       "  <tbody>\n",
       "    <tr>\n",
       "      <th>0</th>\n",
       "      <td>Cheetah</td>\n",
       "      <td>Acinonyx</td>\n",
       "      <td>carni</td>\n",
       "      <td>Carnivora</td>\n",
       "      <td>lc</td>\n",
       "      <td>12.1</td>\n",
       "      <td>NaN</td>\n",
       "      <td>NaN</td>\n",
       "      <td>11.9</td>\n",
       "      <td>NaN</td>\n",
       "      <td>50.000</td>\n",
       "    </tr>\n",
       "    <tr>\n",
       "      <th>1</th>\n",
       "      <td>Owl monkey</td>\n",
       "      <td>Aotus</td>\n",
       "      <td>omni</td>\n",
       "      <td>Primates</td>\n",
       "      <td>NaN</td>\n",
       "      <td>17.0</td>\n",
       "      <td>1.8</td>\n",
       "      <td>NaN</td>\n",
       "      <td>7.0</td>\n",
       "      <td>0.01550</td>\n",
       "      <td>0.480</td>\n",
       "    </tr>\n",
       "    <tr>\n",
       "      <th>2</th>\n",
       "      <td>Mountain beaver</td>\n",
       "      <td>Aplodontia</td>\n",
       "      <td>herbi</td>\n",
       "      <td>Rodentia</td>\n",
       "      <td>nt</td>\n",
       "      <td>14.4</td>\n",
       "      <td>2.4</td>\n",
       "      <td>NaN</td>\n",
       "      <td>9.6</td>\n",
       "      <td>NaN</td>\n",
       "      <td>1.350</td>\n",
       "    </tr>\n",
       "    <tr>\n",
       "      <th>3</th>\n",
       "      <td>Greater short-tailed shrew</td>\n",
       "      <td>Blarina</td>\n",
       "      <td>omni</td>\n",
       "      <td>Soricomorpha</td>\n",
       "      <td>lc</td>\n",
       "      <td>14.9</td>\n",
       "      <td>2.3</td>\n",
       "      <td>0.133333</td>\n",
       "      <td>9.1</td>\n",
       "      <td>0.00029</td>\n",
       "      <td>0.019</td>\n",
       "    </tr>\n",
       "    <tr>\n",
       "      <th>4</th>\n",
       "      <td>Cow</td>\n",
       "      <td>Bos</td>\n",
       "      <td>herbi</td>\n",
       "      <td>Artiodactyla</td>\n",
       "      <td>domesticated</td>\n",
       "      <td>4.0</td>\n",
       "      <td>0.7</td>\n",
       "      <td>0.666667</td>\n",
       "      <td>20.0</td>\n",
       "      <td>0.42300</td>\n",
       "      <td>600.000</td>\n",
       "    </tr>\n",
       "  </tbody>\n",
       "</table>\n",
       "</div>"
      ],
      "text/plain": [
       "                         name       genus   vore         order  conservation  \\\n",
       "0                     Cheetah    Acinonyx  carni     Carnivora            lc   \n",
       "1                  Owl monkey       Aotus   omni      Primates           NaN   \n",
       "2             Mountain beaver  Aplodontia  herbi      Rodentia            nt   \n",
       "3  Greater short-tailed shrew     Blarina   omni  Soricomorpha            lc   \n",
       "4                         Cow         Bos  herbi  Artiodactyla  domesticated   \n",
       "\n",
       "   sleep_total  sleep_rem  sleep_cycle  awake  brainwt   bodywt  \n",
       "0         12.1        NaN          NaN   11.9      NaN   50.000  \n",
       "1         17.0        1.8          NaN    7.0  0.01550    0.480  \n",
       "2         14.4        2.4          NaN    9.6      NaN    1.350  \n",
       "3         14.9        2.3     0.133333    9.1  0.00029    0.019  \n",
       "4          4.0        0.7     0.666667   20.0  0.42300  600.000  "
      ]
     },
     "execution_count": 19,
     "metadata": {},
     "output_type": "execute_result"
    }
   ],
   "source": [
    "sleep = pd.read_csv('https://raw.githubusercontent.com/shanellis/datasets/master/msleep.csv')\n",
    "sleep.head()"
   ]
  },
  {
   "cell_type": "markdown",
   "metadata": {
    "slideshow": {
     "slide_type": "fragment"
    }
   },
   "source": [
    "What if we were interested in quantifying the **effect that REM sleep has on total sleep**?\n",
    "\n",
    "We may hypothesize that the more REM sleep an animal gets the less total sleep it needs."
   ]
  },
  {
   "cell_type": "code",
   "execution_count": 37,
   "metadata": {
    "scrolled": true,
    "slideshow": {
     "slide_type": "fragment"
    }
   },
   "outputs": [
    {
     "data": {
      "image/png": "[encoded data removed]",
      "text/plain": [
       "<Figure size 1224x504 with 1 Axes>"
      ]
     },
     "metadata": {
      "needs_background": "light"
     },
     "output_type": "display_data"
    }
   ],
   "source": [
    "sleep['sleep_rem'].hist();"
   ]
  },
  {
   "cell_type": "markdown",
   "metadata": {},
   "source": [
    "We saw previously that these data are skewed right, and discussed that transforming these data could help us use them in analysis..."
   ]
  },
  {
   "cell_type": "code",
   "execution_count": 46,
   "metadata": {
    "scrolled": false,
    "slideshow": {
     "slide_type": "fragment"
    }
   },
   "outputs": [
    {
     "data": {
      "image/png": "[encoded data removed]",
      "text/plain": [
       "<Figure size 1224x504 with 1 Axes>"
      ]
     },
     "metadata": {
      "needs_background": "light"
     },
     "output_type": "display_data"
    }
   ],
   "source": [
    "plt.scatter(sleep['sleep_rem'], sleep['sleep_total'], s=100)\n",
    "plt.xlabel('REM Sleep')\n",
    "plt.ylabel('Total Sleep');"
   ]
  },
  {
   "cell_type": "markdown",
   "metadata": {
    "slideshow": {
     "slide_type": "subslide"
    }
   },
   "source": [
    "This relationship is not linear...so linear regression would not be appropriate"
   ]
  },
  {
   "cell_type": "markdown",
   "metadata": {
    "slideshow": {
     "slide_type": "slide"
    }
   },
   "source": [
    "### Log Transformation"
   ]
  },
  {
   "cell_type": "code",
   "execution_count": 22,
   "metadata": {
    "slideshow": {
     "slide_type": "fragment"
    }
   },
   "outputs": [],
   "source": [
    "# add log-transofmed column to sleep_rem & brainwt\n",
    "sleep['sleep_rem10'] = np.log10(sleep['sleep_rem'])"
   ]
  },
  {
   "cell_type": "code",
   "execution_count": 43,
   "metadata": {
    "scrolled": true,
    "slideshow": {
     "slide_type": "fragment"
    }
   },
   "outputs": [
    {
     "data": {
      "image/png": "[encoded data removed]",
      "text/plain": [
       "<Figure size 1224x504 with 1 Axes>"
      ]
     },
     "metadata": {
      "needs_background": "light"
     },
     "output_type": "display_data"
    }
   ],
   "source": [
    "sleep['sleep_rem10'].hist()\n",
    "plt.xlabel('log10(REM Sleep)');"
   ]
  },
  {
   "cell_type": "code",
   "execution_count": 47,
   "metadata": {
    "scrolled": true,
    "slideshow": {
     "slide_type": "fragment"
    }
   },
   "outputs": [
    {
     "data": {
      "image/png": "[encoded data removed]",
      "text/plain": [
       "<Figure size 1224x504 with 1 Axes>"
      ]
     },
     "metadata": {
      "needs_background": "light"
     },
     "output_type": "display_data"
    }
   ],
   "source": [
    "plt.scatter(sleep['sleep_rem10'], sleep['sleep_total'], s=100)\n",
    "plt.xlabel('log10(REM Sleep)')\n",
    "plt.ylabel('Total Sleep');"
   ]
  },
  {
   "cell_type": "markdown",
   "metadata": {
    "slideshow": {
     "slide_type": "slide"
    }
   },
   "source": [
    "### Linear regression with transformed data"
   ]
  },
  {
   "cell_type": "code",
   "execution_count": 25,
   "metadata": {
    "slideshow": {
     "slide_type": "fragment"
    }
   },
   "outputs": [
    {
     "name": "stdout",
     "output_type": "stream",
     "text": [
      "                            OLS Regression Results                            \n",
      "==============================================================================\n",
      "Dep. Variable:            sleep_total   R-squared:                       0.631\n",
      "Model:                            OLS   Adj. R-squared:                  0.625\n",
      "Method:                 Least Squares   F-statistic:                     100.9\n",
      "Date:                Mon, 29 Apr 2019   Prob (F-statistic):           2.18e-14\n",
      "Time:                        11:09:35   Log-Likelihood:                -147.84\n",
      "No. Observations:                  61   AIC:                             299.7\n",
      "Df Residuals:                      59   BIC:                             303.9\n",
      "Df Model:                           1                                         \n",
      "Covariance Type:            nonrobust                                         \n",
      "===============================================================================\n",
      "                  coef    std err          t      P>|t|      [0.025      0.975]\n",
      "-------------------------------------------------------------------------------\n",
      "Intercept       8.5686      0.399     21.473      0.000       7.770       9.367\n",
      "sleep_rem10    10.8978      1.085     10.045      0.000       8.727      13.069\n",
      "==============================================================================\n",
      "Omnibus:                        1.365   Durbin-Watson:                   1.992\n",
      "Prob(Omnibus):                  0.505   Jarque-Bera (JB):                1.212\n",
      "Skew:                           0.338   Prob(JB):                        0.546\n",
      "Kurtosis:                       2.862   Cond. No.                         3.15\n",
      "==============================================================================\n",
      "\n",
      "Warnings:\n",
      "[1] Standard Errors assume that the covariance matrix of the errors is correctly specified.\n"
     ]
    }
   ],
   "source": [
    "# carry out regression using log-transformed predictor\n",
    "outcome, predictors = patsy.dmatrices('sleep_total ~ sleep_rem10', sleep)\n",
    "mod = sm.OLS(outcome, predictors)\n",
    "res = mod.fit()\n",
    "print(res.summary())"
   ]
  },
  {
   "cell_type": "markdown",
   "metadata": {
    "slideshow": {
     "slide_type": "fragment"
    }
   },
   "source": [
    "Here, we see that the $\\beta$ estimate for `sleep_rem10` is 10.89....but remember that this value is on the log scale."
   ]
  },
  {
   "cell_type": "markdown",
   "metadata": {
    "slideshow": {
     "slide_type": "fragment"
    }
   },
   "source": [
    "$$ Total Sleep = 8.57 + 10.89  * log_{10}(REM Sleep) $$"
   ]
  },
  {
   "cell_type": "markdown",
   "metadata": {
    "slideshow": {
     "slide_type": "fragment"
    }
   },
   "source": [
    "To interpret this coefficient, we would say that\n",
    "\n",
    "a 1 unit increase in REM sleep, Total Sleep increases by $\\approx$ $10.89/100$ units."
   ]
  },
  {
   "cell_type": "code",
   "execution_count": 26,
   "metadata": {
    "slideshow": {
     "slide_type": "fragment"
    }
   },
   "outputs": [
    {
     "data": {
      "text/plain": [
       "0.10890000000000001"
      ]
     },
     "execution_count": 26,
     "metadata": {},
     "output_type": "execute_result"
    }
   ],
   "source": [
    "# interpreting a log transformed coefficient\n",
    "10.89 / 100"
   ]
  },
  {
   "cell_type": "markdown",
   "metadata": {
    "slideshow": {
     "slide_type": "fragment"
    }
   },
   "source": [
    "So, for each 1 hour increase in REM Sleep, Total Sleep increases by 0.11 hours. \n",
    "\n",
    "That's not a large effect, but it is different than what we hypothesized at the beginning!"
   ]
  },
  {
   "cell_type": "markdown",
   "metadata": {
    "slideshow": {
     "slide_type": "notes"
    }
   },
   "source": [
    "More on interpretation of log transformed variables can be read [here](https://www.cscu.cornell.edu/news/statnews/stnews83.pdf)"
   ]
  }
 ],
 "metadata": {
  "celltoolbar": "Slideshow",
  "kernelspec": {
   "display_name": "Python 3",
   "language": "python",
   "name": "python3"
  },
  "language_info": {
   "codemirror_mode": {
    "name": "ipython",
    "version": 3
   },
   "file_extension": ".py",
   "mimetype": "text/x-python",
   "name": "python",
   "nbconvert_exporter": "python",
   "pygments_lexer": "ipython3",
   "version": "3.6.8"
  },
  "rise": {
   "scroll": true
  }
 },
 "nbformat": 4,
 "nbformat_minor": 2
}
